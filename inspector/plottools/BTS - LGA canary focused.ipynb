{
 "cells": [
  {
   "cell_type": "markdown",
   "metadata": {},
   "source": [
    "# BTS, Focused on LGA\n",
    "\n",
    "Edit selector= below\n",
    "\n",
    "Look at the beacons with the largest normalized spread."
   ]
  },
  {
   "cell_type": "code",
   "execution_count": 1,
   "metadata": {},
   "outputs": [],
   "source": [
    "import math\n",
    "import pandas as pd\n",
    "import BQhelper as bq\n",
    "import matplotlib.pyplot as plt\n",
    "\n",
    "bq.project = \"mlab-sandbox\"\n",
    "# bq.dataset = 'mattmathis'\n",
    "# bq.UnitTestRunQuery()\n",
    "# bq.UnitTestWriteQuery()\n"
   ]
  },
  {
   "cell_type": "code",
   "execution_count": 2,
   "metadata": {
    "scrolled": true
   },
   "outputs": [],
   "source": [
    "query=\"\"\"\n",
    "SELECT\n",
    "  a.TestTime,\n",
    "  client.IP,\n",
    "  a.MeanThroughputMbps,\n",
    "  node._instruments\n",
    "# FROM   `mlab-sandbox.mm_unified_testing.unified_downloads`\n",
    "FROM `measurement-lab.ndt.unified_downloads`\n",
    "WHERE client.IP in ( {clientIP} )\n",
    "AND test_date > '2020-06-01'\n",
    "ORDER BY TestTime\n",
    "\n",
    "\"\"\""
   ]
  },
  {
   "cell_type": "code",
   "execution_count": 3,
   "metadata": {
    "scrolled": false
   },
   "outputs": [],
   "source": [
    "%matplotlib nbagg\n",
    "# from matplotlib import interactive\n",
    "# interactive(True)\n",
    "plt.ion()\n",
    "\n",
    "clients = [\n",
    "    '69.68.23.44', # Max deltaMean\n",
    "    '96.229.66.58' # Max deltaMax\n",
    "]\n",
    "\n",
    "\n",
    "def plotMultiBeacons(clients, columns=1, width=10, data=None, selector='downloads'):\n",
    "    if data is None:\n",
    "        clist = '\"'+'\", \"'.join(clients)+'\"'\n",
    "        data=bq.QueryTimestampTimeseries(query, clientIP=clist, selector=selector)\n",
    "        global StashData # Skip slow queries when debugging\n",
    "        StashData = data\n",
    "    rows = math.ceil(len(clients) / float(columns))\n",
    "    figLen = width/float(columns)*rows  # assume square subplots\n",
    "    print('Size', figLen, width)\n",
    "    plt.rcParams['figure.figsize'] = [ width, figLen]\n",
    "    \n",
    "    fig, axs = plt.subplots(nrows=rows, ncols=columns, squeeze=False, sharex='all')\n",
    "    for ax, client in zip([i for j in axs for i in j], clients):\n",
    "        print ('Beacon: '+client)\n",
    "        ax.set_title('Beacon: '+client)\n",
    "        cdata = data[data['IP'] == client]\n",
    "        ax.plot(cdata['MeanThroughputMbps'][cdata[\"_instruments\"] == 'web100'], 'b.',\n",
    "            cdata['MeanThroughputMbps'][cdata[\"_instruments\"] == 'tcpinfo'], 'r.')\n",
    "    fig.autofmt_xdate()\n",
    "    fig.show()\n",
    "    \n",
    "    \n",
    "# plotMultiBeacons(clients, 2, width=10)"
   ]
  },
  {
   "cell_type": "code",
   "execution_count": 45,
   "metadata": {},
   "outputs": [],
   "source": [
    "# NB: ThousandRandomBeacons4perDay are all domotz tests.\n",
    "\n",
    "clientQ=\"\"\"\n",
    "With Clients AS (\n",
    "    SELECT ClientIP,\n",
    "    COUNT (DISTINCT REGEXP_EXTRACT(ParseInfo.TaskFileName, 'mlab[1-4]-[a-z][a-z][a-z][0-9][0-9t]') ) as Servers,\n",
    "    count(*) AS tests\n",
    "    FROM `mlab-oti.base_tables.ndt5`\n",
    "JOIN `mlab-sandbox.mattmathis.ThousandRandomBeacons4perDay` ON ( clientIP = result.C2S.ClientIP )\n",
    "WHERE\n",
    "  REGEXP_EXTRACT(ParseInfo.TaskFileName, 'mlab[1-4]-([a-z][a-z][a-z])[0-9][0-9t]') = 'lga'\n",
    "  AND DATE(TIMESTAMP_SECONDS(log_time)) > '2020-06-05'\n",
    "  GROUP BY clientIP\n",
    ")\n",
    "\n",
    "# Choose\n",
    "# SELECT * FROM Beacons ORDER BY {selector} LIMIT 30\n",
    "SELECT * FROM Clients\n",
    "\"\"\"\n",
    "\n",
    "selector=\"delta desc\"\n",
    "selector=\"deltaMax desc\"\n",
    "BeaconIPs=bq.DataFrameQuery(clientQ, selector=selector)"
   ]
  },
  {
   "cell_type": "code",
   "execution_count": 47,
   "metadata": {},
   "outputs": [
    {
     "name": "stdout",
     "output_type": "stream",
     "text": [
      "           ClientIP  Servers  tests\n",
      "0      24.63.141.72       11     16\n",
      "1     66.108.141.64       13     16\n",
      "2    24.146.180.169        8     16\n",
      "3   173.220.122.246       12     17\n",
      "4      24.2.193.185       10     16\n",
      "5      73.253.3.118       11     15\n",
      "6      73.61.225.27        9     16\n",
      "7     73.38.153.126       10     15\n",
      "8      96.81.116.17       11     16\n",
      "9    64.119.129.162       10     16\n",
      "10    47.20.134.163       10     16\n",
      "11      66.30.43.84       12     15\n",
      "12   173.77.251.162        8     14\n",
      "13      73.159.2.78        9     16\n",
      "14   73.114.215.200        9     16\n",
      "15     107.3.77.108       10     15\n",
      "16     47.23.42.146        9     16\n",
      "17     72.80.56.180       12     16\n",
      "18    24.61.217.179        8     12\n",
      "19   157.130.249.98       11     16\n",
      "20   75.144.150.182        8     16\n",
      "21    73.182.187.63       10     16\n",
      "22    73.17.110.183        9     16\n",
      "23    64.222.170.58        7     15\n",
      "24    74.14.248.250        6      8\n",
      "25   76.119.164.158        9     16\n",
      "26       73.4.54.41        9     16\n",
      "27   65.175.137.230        8     12\n",
      "28   96.230.108.206       11     16\n",
      "29   104.156.72.250        8     10\n",
      "30     96.56.39.186       15     32\n",
      "31    73.219.72.178        9     16\n",
      "32   172.254.73.186       11     16\n",
      "33     75.67.191.62        9     16\n",
      "34    65.96.232.160        8     16\n",
      "35    47.22.147.139       10     16\n",
      "36      71.235.2.28       11     16\n",
      "37      24.91.158.3       10     16\n",
      "38     24.60.99.200        8     15\n",
      "39     74.67.42.243       12     16\n",
      "40    72.68.135.100       10     16\n",
      "41     47.23.74.166       11     16\n",
      "42    24.61.118.171       11     16\n",
      "43    68.129.140.37        9     15\n",
      "44      47.23.5.170       11     16\n",
      "45    73.17.109.227        9     16\n",
      "46    76.98.164.167       10     16\n",
      "47    75.149.133.69       11     16\n",
      "48    73.100.163.39        9     15\n",
      "49      24.2.189.18        7     16\n",
      "50   73.123.192.201        9     16\n",
      "51     24.37.43.178        5     11\n",
      "52   73.119.203.194       11     16\n",
      "53      68.80.4.174       11     15\n",
      "54   24.115.150.236       11     16\n",
      "55    76.23.141.110        9     16\n",
      "56   151.181.50.238       12     16\n",
      "57    75.68.126.126       11     16\n"
     ]
    }
   ],
   "source": [
    "print (BeaconIPs)"
   ]
  },
  {
   "cell_type": "code",
   "execution_count": 52,
   "metadata": {},
   "outputs": [],
   "source": [
    "# NB: ThousandRandomBeacons4perDay are all domotz tests.\n",
    "\n",
    "listq=\"\"\"\n",
    "With Beacons AS (\n",
    "SELECT\n",
    "#  REGEXP_EXTRACT(ParseInfo.TaskFileName, 'mlab[1-4]-[a-z][a-z][a-z][0-9][0-9t]') AS shortname,\n",
    "  CONCAT(REGEXP_EXTRACT(ParseInfo.TaskFileName, 'mlab[1-4]-([a-z][a-z][a-z][0-9][0-9t])'), '-',\n",
    "    REGEXP_EXTRACT(ParseInfo.TaskFileName, '(mlab[1-4])-[a-z][a-z][a-z][0-9][0-9t]')) AS revName,\n",
    "  `mlab-sandbox.mattmathis.Binify`( result.C2S.MeanThroughputMbps, 5) AS rateBin,\n",
    "FROM `mlab-oti.base_tables.ndt5`\n",
    "JOIN `mlab-sandbox.mattmathis.ThousandRandomBeacons4perDay` ON ( clientIP = result.C2S.ClientIP )\n",
    "WHERE\n",
    "  REGEXP_EXTRACT(ParseInfo.TaskFileName, 'mlab[1-4]-([a-z][a-z][a-z])[0-9][0-9t]') = 'lga'\n",
    "  AND DATE(TIMESTAMP_SECONDS(log_time)) > '2020-06-05'\n",
    "  GROUP BY revName, rateBin\n",
    ")\n",
    "\n",
    "# Choose\n",
    "SELECT * FROM Beacons\n",
    "\"\"\"\n",
    "\n",
    "RateBins=bq.DataFrameQuery(listq)"
   ]
  },
  {
   "cell_type": "code",
   "execution_count": 53,
   "metadata": {
    "scrolled": true
   },
   "outputs": [
    {
     "name": "stdout",
     "output_type": "stream",
     "text": [
      "         revName    rateBin\n",
      "0    lga05-mlab2   46.41589\n",
      "1    lga03-mlab3   46.41589\n",
      "2    lga06-mlab1   46.41589\n",
      "3    lga04-mlab1  215.44347\n",
      "4    lga05-mlab2  215.44347\n",
      "..           ...        ...\n",
      "100  lga05-mlab2  100.00000\n",
      "101  lga04-mlab3   10.00000\n",
      "102  lga08-mlab2  215.44347\n",
      "103  lga04-mlab1   21.54435\n",
      "104  lga08-mlab1   46.41589\n",
      "\n",
      "[105 rows x 2 columns]\n"
     ]
    }
   ],
   "source": [
    "print (RateBins)"
   ]
  },
  {
   "cell_type": "code",
   "execution_count": 65,
   "metadata": {},
   "outputs": [
    {
     "name": "stdout",
     "output_type": "stream",
     "text": [
      "400 SELECT list expression references ParseInfo.TaskFileName which is neither grouped nor aggregated at [6:20]\n",
      "\n",
      "(job ID: ff1ceb73-5f98-408e-a0b7-3b108fed1341)\n",
      "\n",
      "                                   -----Query Job SQL Follows-----                                   \n",
      "\n",
      "    |    .    |    .    |    .    |    .    |    .    |    .    |    .    |    .    |    .    |\n",
      "   1:\n",
      "   2:With Singletons AS (\n",
      "   3:SELECT\n",
      "   4:    COUNT (*) as tests,\n",
      "   5:    result.S2C.ClientIP,\n",
      "   6:    REGEXP_EXTRACT(ParseInfo.TaskFileName, 'mlab[1-4]-[a-z][a-z][a-z][0-9][0-9t]') AS shortname,\n",
      "   7:    `mlab-sandbox.mattmathis.Binify`( result.C2S.MeanThroughputMbps, 5) AS rateBin,\n",
      "   8:FROM `mlab-oti.base_tables.ndt5`\n",
      "   9:WHERE\n",
      "  10:    DATE(TIMESTAMP_SECONDS(log_time)) > '2020-06-05'\n",
      "  11:    AND REGEXP_EXTRACT(ParseInfo.TaskFileName, 'mlab[1-4]-([a-z][a-z][a-z])[0-9][0-9t]') = 'lga'\n",
      "  12:    AND result.S2C is not null\n",
      "  13:GROUP BY\n",
      "  14:    result.S2C.ClientIP\n",
      "  15:HAVING\n",
      "  16:    tests = 1\n",
      "  17:)\n",
      "  18:\n",
      "  19:# Choose\n",
      "  20:SELECT * FROM Singletons\n",
      "    |    .    |    .    |    .    |    .    |    .    |    .    |    .    |    .    |    .    |\n",
      "  1 \n",
      "  2 With Singletons AS (\n",
      "  3 SELECT\n",
      "  4     COUNT (*) as tests,\n",
      "  5     result.S2C.ClientIP,\n",
      "  6     REGEXP_EXTRACT(ParseInfo.TaskFileName, 'mlab[1-4]-[a-z][a-z][a-z][0-9][0-9t]') AS shortname,\n",
      "  7     `mlab-sandbox.mattmathis.Binify`( result.C2S.MeanThroughputMbps, 5) AS rateBin,\n",
      "  8 FROM `mlab-oti.base_tables.ndt5`\n",
      "  9 WHERE\n",
      " 10     DATE(TIMESTAMP_SECONDS(log_time)) > '2020-06-05'\n",
      " 11     AND REGEXP_EXTRACT(ParseInfo.TaskFileName, 'mlab[1-4]-([a-z][a-z][a-z])[0-9][0-9t]') = 'lga'\n",
      " 12     AND result.S2C is not null\n",
      " 13 GROUP BY\n",
      " 14     result.S2C.ClientIP\n",
      " 15 HAVING\n",
      " 16     tests = 1\n",
      " 17 )\n",
      " 18 \n",
      " 19 # Choose\n",
      " 20 SELECT * FROM Singletons\n",
      " 21 \n",
      "\n"
     ]
    },
    {
     "ename": "BadRequest",
     "evalue": "400 SELECT list expression references ParseInfo.TaskFileName which is neither grouped nor aggregated at [6:20]\n\n(job ID: ff1ceb73-5f98-408e-a0b7-3b108fed1341)\n\n                                   -----Query Job SQL Follows-----                                   \n\n    |    .    |    .    |    .    |    .    |    .    |    .    |    .    |    .    |    .    |\n   1:\n   2:With Singletons AS (\n   3:SELECT\n   4:    COUNT (*) as tests,\n   5:    result.S2C.ClientIP,\n   6:    REGEXP_EXTRACT(ParseInfo.TaskFileName, 'mlab[1-4]-[a-z][a-z][a-z][0-9][0-9t]') AS shortname,\n   7:    `mlab-sandbox.mattmathis.Binify`( result.C2S.MeanThroughputMbps, 5) AS rateBin,\n   8:FROM `mlab-oti.base_tables.ndt5`\n   9:WHERE\n  10:    DATE(TIMESTAMP_SECONDS(log_time)) > '2020-06-05'\n  11:    AND REGEXP_EXTRACT(ParseInfo.TaskFileName, 'mlab[1-4]-([a-z][a-z][a-z])[0-9][0-9t]') = 'lga'\n  12:    AND result.S2C is not null\n  13:GROUP BY\n  14:    result.S2C.ClientIP\n  15:HAVING\n  16:    tests = 1\n  17:)\n  18:\n  19:# Choose\n  20:SELECT * FROM Singletons\n    |    .    |    .    |    .    |    .    |    .    |    .    |    .    |    .    |    .    |",
     "output_type": "error",
     "traceback": [
      "\u001b[0;31m---------------------------------------------------------------------------\u001b[0m",
      "\u001b[0;31mBadRequest\u001b[0m                                Traceback (most recent call last)",
      "\u001b[0;32m<ipython-input-65-4a42058a6566>\u001b[0m in \u001b[0;36m<module>\u001b[0;34m\u001b[0m\n\u001b[1;32m     23\u001b[0m \"\"\"\n\u001b[1;32m     24\u001b[0m \u001b[0;34m\u001b[0m\u001b[0m\n\u001b[0;32m---> 25\u001b[0;31m \u001b[0mSingeltons\u001b[0m\u001b[0;34m=\u001b[0m\u001b[0mbq\u001b[0m\u001b[0;34m.\u001b[0m\u001b[0mDataFrameQuery\u001b[0m\u001b[0;34m(\u001b[0m\u001b[0mSpreadQ\u001b[0m\u001b[0;34m)\u001b[0m\u001b[0;34m\u001b[0m\u001b[0;34m\u001b[0m\u001b[0m\n\u001b[0m\u001b[1;32m     26\u001b[0m \u001b[0;34m\u001b[0m\u001b[0m\n\u001b[1;32m     27\u001b[0m \u001b[0mprint\u001b[0m \u001b[0;34m(\u001b[0m\u001b[0mSingeltons\u001b[0m\u001b[0;34m)\u001b[0m\u001b[0;34m\u001b[0m\u001b[0;34m\u001b[0m\u001b[0m\n",
      "\u001b[0;32m/home/mattmathis/Projects/analysis/inspector/plottools/BQhelper.py\u001b[0m in \u001b[0;36mDataFrameQuery\u001b[0;34m(query, **args)\u001b[0m\n\u001b[1;32m     91\u001b[0m \u001b[0;34m\u001b[0m\u001b[0m\n\u001b[1;32m     92\u001b[0m \u001b[0;32mdef\u001b[0m \u001b[0mDataFrameQuery\u001b[0m\u001b[0;34m(\u001b[0m\u001b[0mquery\u001b[0m\u001b[0;34m,\u001b[0m \u001b[0;34m**\u001b[0m\u001b[0margs\u001b[0m\u001b[0;34m)\u001b[0m\u001b[0;34m:\u001b[0m\u001b[0;34m\u001b[0m\u001b[0;34m\u001b[0m\u001b[0m\n\u001b[0;32m---> 93\u001b[0;31m     \u001b[0mresults\u001b[0m \u001b[0;34m=\u001b[0m \u001b[0mrun_query\u001b[0m\u001b[0;34m(\u001b[0m\u001b[0mquery\u001b[0m\u001b[0;34m,\u001b[0m \u001b[0;34m**\u001b[0m\u001b[0margs\u001b[0m\u001b[0;34m)\u001b[0m\u001b[0;34m\u001b[0m\u001b[0;34m\u001b[0m\u001b[0m\n\u001b[0m\u001b[1;32m     94\u001b[0m     \u001b[0;32mreturn\u001b[0m \u001b[0mpd\u001b[0m\u001b[0;34m.\u001b[0m\u001b[0mDataFrame\u001b[0m\u001b[0;34m(\u001b[0m\u001b[0mresults\u001b[0m\u001b[0;34m)\u001b[0m\u001b[0;34m\u001b[0m\u001b[0;34m\u001b[0m\u001b[0m\n\u001b[1;32m     95\u001b[0m \u001b[0;34m\u001b[0m\u001b[0m\n",
      "\u001b[0;32m/home/mattmathis/Projects/analysis/inspector/plottools/BQhelper.py\u001b[0m in \u001b[0;36mrun_query\u001b[0;34m(query, **kwargs)\u001b[0m\n\u001b[1;32m     53\u001b[0m     \u001b[0;32mtry\u001b[0m\u001b[0;34m:\u001b[0m\u001b[0;34m\u001b[0m\u001b[0;34m\u001b[0m\u001b[0m\n\u001b[1;32m     54\u001b[0m         \u001b[0mresults\u001b[0m \u001b[0;34m=\u001b[0m \u001b[0mcollections\u001b[0m\u001b[0;34m.\u001b[0m\u001b[0mdefaultdict\u001b[0m\u001b[0;34m(\u001b[0m\u001b[0mlist\u001b[0m\u001b[0;34m)\u001b[0m\u001b[0;34m\u001b[0m\u001b[0;34m\u001b[0m\u001b[0m\n\u001b[0;32m---> 55\u001b[0;31m         \u001b[0;32mfor\u001b[0m \u001b[0mrow\u001b[0m \u001b[0;32min\u001b[0m \u001b[0mjob\u001b[0m\u001b[0;34m.\u001b[0m\u001b[0mresult\u001b[0m\u001b[0;34m(\u001b[0m\u001b[0mtimeout\u001b[0m\u001b[0;34m=\u001b[0m\u001b[0;36m600\u001b[0m\u001b[0;34m)\u001b[0m\u001b[0;34m:\u001b[0m\u001b[0;34m\u001b[0m\u001b[0;34m\u001b[0m\u001b[0m\n\u001b[0m\u001b[1;32m     56\u001b[0m             \u001b[0;32mfor\u001b[0m \u001b[0mkey\u001b[0m \u001b[0;32min\u001b[0m \u001b[0mrow\u001b[0m\u001b[0;34m.\u001b[0m\u001b[0mkeys\u001b[0m\u001b[0;34m(\u001b[0m\u001b[0;34m)\u001b[0m\u001b[0;34m:\u001b[0m\u001b[0;34m\u001b[0m\u001b[0;34m\u001b[0m\u001b[0m\n\u001b[1;32m     57\u001b[0m                 \u001b[0mresults\u001b[0m\u001b[0;34m[\u001b[0m\u001b[0mkey\u001b[0m\u001b[0;34m]\u001b[0m\u001b[0;34m.\u001b[0m\u001b[0mappend\u001b[0m\u001b[0;34m(\u001b[0m\u001b[0mrow\u001b[0m\u001b[0;34m.\u001b[0m\u001b[0mget\u001b[0m\u001b[0;34m(\u001b[0m\u001b[0mkey\u001b[0m\u001b[0;34m)\u001b[0m\u001b[0;34m)\u001b[0m\u001b[0;34m\u001b[0m\u001b[0;34m\u001b[0m\u001b[0m\n",
      "\u001b[0;32m/opt/conda/lib/python3.7/site-packages/google/cloud/bigquery/job.py\u001b[0m in \u001b[0;36mresult\u001b[0;34m(self, page_size, max_results, retry, timeout)\u001b[0m\n\u001b[1;32m   3194\u001b[0m             )\n\u001b[1;32m   3195\u001b[0m             \u001b[0;32mwith\u001b[0m \u001b[0mguard\u001b[0m\u001b[0;34m:\u001b[0m\u001b[0;34m\u001b[0m\u001b[0;34m\u001b[0m\u001b[0m\n\u001b[0;32m-> 3196\u001b[0;31m                 \u001b[0msuper\u001b[0m\u001b[0;34m(\u001b[0m\u001b[0mQueryJob\u001b[0m\u001b[0;34m,\u001b[0m \u001b[0mself\u001b[0m\u001b[0;34m)\u001b[0m\u001b[0;34m.\u001b[0m\u001b[0mresult\u001b[0m\u001b[0;34m(\u001b[0m\u001b[0mretry\u001b[0m\u001b[0;34m=\u001b[0m\u001b[0mretry\u001b[0m\u001b[0;34m,\u001b[0m \u001b[0mtimeout\u001b[0m\u001b[0;34m=\u001b[0m\u001b[0mtimeout\u001b[0m\u001b[0;34m)\u001b[0m\u001b[0;34m\u001b[0m\u001b[0;34m\u001b[0m\u001b[0m\n\u001b[0m\u001b[1;32m   3197\u001b[0m             \u001b[0mtimeout\u001b[0m \u001b[0;34m=\u001b[0m \u001b[0mguard\u001b[0m\u001b[0;34m.\u001b[0m\u001b[0mremaining_timeout\u001b[0m\u001b[0;34m\u001b[0m\u001b[0;34m\u001b[0m\u001b[0m\n\u001b[1;32m   3198\u001b[0m \u001b[0;34m\u001b[0m\u001b[0m\n",
      "\u001b[0;32m/opt/conda/lib/python3.7/site-packages/google/cloud/bigquery/job.py\u001b[0m in \u001b[0;36mresult\u001b[0;34m(self, retry, timeout)\u001b[0m\n\u001b[1;32m    816\u001b[0m             \u001b[0mtimeout\u001b[0m \u001b[0;34m=\u001b[0m \u001b[0mguard\u001b[0m\u001b[0;34m.\u001b[0m\u001b[0mremaining_timeout\u001b[0m\u001b[0;34m\u001b[0m\u001b[0;34m\u001b[0m\u001b[0m\n\u001b[1;32m    817\u001b[0m         \u001b[0;31m# TODO: modify PollingFuture so it can pass a retry argument to done().\u001b[0m\u001b[0;34m\u001b[0m\u001b[0;34m\u001b[0m\u001b[0;34m\u001b[0m\u001b[0m\n\u001b[0;32m--> 818\u001b[0;31m         \u001b[0;32mreturn\u001b[0m \u001b[0msuper\u001b[0m\u001b[0;34m(\u001b[0m\u001b[0m_AsyncJob\u001b[0m\u001b[0;34m,\u001b[0m \u001b[0mself\u001b[0m\u001b[0;34m)\u001b[0m\u001b[0;34m.\u001b[0m\u001b[0mresult\u001b[0m\u001b[0;34m(\u001b[0m\u001b[0mtimeout\u001b[0m\u001b[0;34m=\u001b[0m\u001b[0mtimeout\u001b[0m\u001b[0;34m)\u001b[0m\u001b[0;34m\u001b[0m\u001b[0;34m\u001b[0m\u001b[0m\n\u001b[0m\u001b[1;32m    819\u001b[0m \u001b[0;34m\u001b[0m\u001b[0m\n\u001b[1;32m    820\u001b[0m     \u001b[0;32mdef\u001b[0m \u001b[0mcancelled\u001b[0m\u001b[0;34m(\u001b[0m\u001b[0mself\u001b[0m\u001b[0;34m)\u001b[0m\u001b[0;34m:\u001b[0m\u001b[0;34m\u001b[0m\u001b[0;34m\u001b[0m\u001b[0m\n",
      "\u001b[0;32m/opt/conda/lib/python3.7/site-packages/google/api_core/future/polling.py\u001b[0m in \u001b[0;36mresult\u001b[0;34m(self, timeout)\u001b[0m\n\u001b[1;32m    128\u001b[0m             \u001b[0;31m# pylint: disable=raising-bad-type\u001b[0m\u001b[0;34m\u001b[0m\u001b[0;34m\u001b[0m\u001b[0;34m\u001b[0m\u001b[0m\n\u001b[1;32m    129\u001b[0m             \u001b[0;31m# Pylint doesn't recognize that this is valid in this case.\u001b[0m\u001b[0;34m\u001b[0m\u001b[0;34m\u001b[0m\u001b[0;34m\u001b[0m\u001b[0m\n\u001b[0;32m--> 130\u001b[0;31m             \u001b[0;32mraise\u001b[0m \u001b[0mself\u001b[0m\u001b[0;34m.\u001b[0m\u001b[0m_exception\u001b[0m\u001b[0;34m\u001b[0m\u001b[0;34m\u001b[0m\u001b[0m\n\u001b[0m\u001b[1;32m    131\u001b[0m \u001b[0;34m\u001b[0m\u001b[0m\n\u001b[1;32m    132\u001b[0m         \u001b[0;32mreturn\u001b[0m \u001b[0mself\u001b[0m\u001b[0;34m.\u001b[0m\u001b[0m_result\u001b[0m\u001b[0;34m\u001b[0m\u001b[0;34m\u001b[0m\u001b[0m\n",
      "\u001b[0;31mBadRequest\u001b[0m: 400 SELECT list expression references ParseInfo.TaskFileName which is neither grouped nor aggregated at [6:20]\n\n(job ID: ff1ceb73-5f98-408e-a0b7-3b108fed1341)\n\n                                   -----Query Job SQL Follows-----                                   \n\n    |    .    |    .    |    .    |    .    |    .    |    .    |    .    |    .    |    .    |\n   1:\n   2:With Singletons AS (\n   3:SELECT\n   4:    COUNT (*) as tests,\n   5:    result.S2C.ClientIP,\n   6:    REGEXP_EXTRACT(ParseInfo.TaskFileName, 'mlab[1-4]-[a-z][a-z][a-z][0-9][0-9t]') AS shortname,\n   7:    `mlab-sandbox.mattmathis.Binify`( result.C2S.MeanThroughputMbps, 5) AS rateBin,\n   8:FROM `mlab-oti.base_tables.ndt5`\n   9:WHERE\n  10:    DATE(TIMESTAMP_SECONDS(log_time)) > '2020-06-05'\n  11:    AND REGEXP_EXTRACT(ParseInfo.TaskFileName, 'mlab[1-4]-([a-z][a-z][a-z])[0-9][0-9t]') = 'lga'\n  12:    AND result.S2C is not null\n  13:GROUP BY\n  14:    result.S2C.ClientIP\n  15:HAVING\n  16:    tests = 1\n  17:)\n  18:\n  19:# Choose\n  20:SELECT * FROM Singletons\n    |    .    |    .    |    .    |    .    |    .    |    .    |    .    |    .    |    .    |"
     ]
    }
   ],
   "source": [
    "# NB: ThousandRandomBeacons4perDay are all domotz tests.\n",
    "\n",
    "SpreadQ=\"\"\"\n",
    "With Singletons AS (\n",
    "SELECT\n",
    "    COUNT (*) as tests,\n",
    "    result.S2C.ClientIP,\n",
    "    REGEXP_EXTRACT(ParseInfo.TaskFileName, 'mlab[1-4]-[a-z][a-z][a-z][0-9][0-9t]') AS shortname,\n",
    "    `mlab-sandbox.mattmathis.Binify`( result.C2S.MeanThroughputMbps, 5) AS rateBin,\n",
    "FROM `mlab-oti.base_tables.ndt5`\n",
    "WHERE\n",
    "    DATE(TIMESTAMP_SECONDS(log_time)) > '2020-06-05'\n",
    "    AND REGEXP_EXTRACT(ParseInfo.TaskFileName, 'mlab[1-4]-([a-z][a-z][a-z])[0-9][0-9t]') = 'lga'\n",
    "    AND result.S2C is not null\n",
    "GROUP BY\n",
    "    result.S2C.ClientIP\n",
    "HAVING\n",
    "    tests = 1\n",
    ")\n",
    "\n",
    "# Choose\n",
    "SELECT * FROM Singletons\n",
    "\"\"\"\n",
    "\n",
    "Singeltons=bq.DataFrameQuery(SpreadQ)\n",
    "\n",
    "print (Singeltons)"
   ]
  },
  {
   "cell_type": "code",
   "execution_count": 43,
   "metadata": {
    "scrolled": false
   },
   "outputs": [
    {
     "ename": "KeyError",
     "evalue": "'NDT5'",
     "output_type": "error",
     "traceback": [
      "\u001b[0;31m---------------------------------------------------------------------------\u001b[0m",
      "\u001b[0;31mKeyError\u001b[0m                                  Traceback (most recent call last)",
      "\u001b[0;32m/opt/conda/lib/python3.7/site-packages/pandas/core/indexes/base.py\u001b[0m in \u001b[0;36mget_loc\u001b[0;34m(self, key, method, tolerance)\u001b[0m\n\u001b[1;32m   2645\u001b[0m             \u001b[0;32mtry\u001b[0m\u001b[0;34m:\u001b[0m\u001b[0;34m\u001b[0m\u001b[0;34m\u001b[0m\u001b[0m\n\u001b[0;32m-> 2646\u001b[0;31m                 \u001b[0;32mreturn\u001b[0m \u001b[0mself\u001b[0m\u001b[0;34m.\u001b[0m\u001b[0m_engine\u001b[0m\u001b[0;34m.\u001b[0m\u001b[0mget_loc\u001b[0m\u001b[0;34m(\u001b[0m\u001b[0mkey\u001b[0m\u001b[0;34m)\u001b[0m\u001b[0;34m\u001b[0m\u001b[0;34m\u001b[0m\u001b[0m\n\u001b[0m\u001b[1;32m   2647\u001b[0m             \u001b[0;32mexcept\u001b[0m \u001b[0mKeyError\u001b[0m\u001b[0;34m:\u001b[0m\u001b[0;34m\u001b[0m\u001b[0;34m\u001b[0m\u001b[0m\n",
      "\u001b[0;32mpandas/_libs/index.pyx\u001b[0m in \u001b[0;36mpandas._libs.index.IndexEngine.get_loc\u001b[0;34m()\u001b[0m\n",
      "\u001b[0;32mpandas/_libs/index.pyx\u001b[0m in \u001b[0;36mpandas._libs.index.IndexEngine.get_loc\u001b[0;34m()\u001b[0m\n",
      "\u001b[0;32mpandas/_libs/hashtable_class_helper.pxi\u001b[0m in \u001b[0;36mpandas._libs.hashtable.PyObjectHashTable.get_item\u001b[0;34m()\u001b[0m\n",
      "\u001b[0;32mpandas/_libs/hashtable_class_helper.pxi\u001b[0m in \u001b[0;36mpandas._libs.hashtable.PyObjectHashTable.get_item\u001b[0;34m()\u001b[0m\n",
      "\u001b[0;31mKeyError\u001b[0m: 'NDT5'",
      "\nDuring handling of the above exception, another exception occurred:\n",
      "\u001b[0;31mKeyError\u001b[0m                                  Traceback (most recent call last)",
      "\u001b[0;32m<ipython-input-43-3db89bdf2265>\u001b[0m in \u001b[0;36m<module>\u001b[0;34m\u001b[0m\n\u001b[1;32m      1\u001b[0m \u001b[0;31m# lame\u001b[0m\u001b[0;34m\u001b[0m\u001b[0;34m\u001b[0m\u001b[0;34m\u001b[0m\u001b[0m\n\u001b[1;32m      2\u001b[0m \u001b[0mbeacons\u001b[0m \u001b[0;34m=\u001b[0m \u001b[0;34m[\u001b[0m\u001b[0;34m]\u001b[0m\u001b[0;34m\u001b[0m\u001b[0;34m\u001b[0m\u001b[0m\n\u001b[0;32m----> 3\u001b[0;31m \u001b[0;32mfor\u001b[0m \u001b[0mt\u001b[0m \u001b[0;32min\u001b[0m \u001b[0mstepbeacons\u001b[0m\u001b[0;34m[\u001b[0m\u001b[0;34m'NDT5'\u001b[0m\u001b[0;34m]\u001b[0m\u001b[0;34m:\u001b[0m\u001b[0;34m\u001b[0m\u001b[0;34m\u001b[0m\u001b[0m\n\u001b[0m\u001b[1;32m      4\u001b[0m     \u001b[0mbeacons\u001b[0m\u001b[0;34m.\u001b[0m\u001b[0mappend\u001b[0m\u001b[0;34m(\u001b[0m\u001b[0mt\u001b[0m\u001b[0;34m[\u001b[0m\u001b[0;34m'clientIP'\u001b[0m\u001b[0;34m]\u001b[0m\u001b[0;34m)\u001b[0m\u001b[0;34m\u001b[0m\u001b[0;34m\u001b[0m\u001b[0m\n\u001b[1;32m      5\u001b[0m \u001b[0mplotMultiBeacons\u001b[0m\u001b[0;34m(\u001b[0m\u001b[0mbeacons\u001b[0m\u001b[0;34m,\u001b[0m \u001b[0;36m2\u001b[0m\u001b[0;34m,\u001b[0m \u001b[0mwidth\u001b[0m\u001b[0;34m=\u001b[0m\u001b[0;36m10\u001b[0m\u001b[0;34m)\u001b[0m\u001b[0;34m\u001b[0m\u001b[0;34m\u001b[0m\u001b[0m\n",
      "\u001b[0;32m/opt/conda/lib/python3.7/site-packages/pandas/core/frame.py\u001b[0m in \u001b[0;36m__getitem__\u001b[0;34m(self, key)\u001b[0m\n\u001b[1;32m   2798\u001b[0m             \u001b[0;32mif\u001b[0m \u001b[0mself\u001b[0m\u001b[0;34m.\u001b[0m\u001b[0mcolumns\u001b[0m\u001b[0;34m.\u001b[0m\u001b[0mnlevels\u001b[0m \u001b[0;34m>\u001b[0m \u001b[0;36m1\u001b[0m\u001b[0;34m:\u001b[0m\u001b[0;34m\u001b[0m\u001b[0;34m\u001b[0m\u001b[0m\n\u001b[1;32m   2799\u001b[0m                 \u001b[0;32mreturn\u001b[0m \u001b[0mself\u001b[0m\u001b[0;34m.\u001b[0m\u001b[0m_getitem_multilevel\u001b[0m\u001b[0;34m(\u001b[0m\u001b[0mkey\u001b[0m\u001b[0;34m)\u001b[0m\u001b[0;34m\u001b[0m\u001b[0;34m\u001b[0m\u001b[0m\n\u001b[0;32m-> 2800\u001b[0;31m             \u001b[0mindexer\u001b[0m \u001b[0;34m=\u001b[0m \u001b[0mself\u001b[0m\u001b[0;34m.\u001b[0m\u001b[0mcolumns\u001b[0m\u001b[0;34m.\u001b[0m\u001b[0mget_loc\u001b[0m\u001b[0;34m(\u001b[0m\u001b[0mkey\u001b[0m\u001b[0;34m)\u001b[0m\u001b[0;34m\u001b[0m\u001b[0;34m\u001b[0m\u001b[0m\n\u001b[0m\u001b[1;32m   2801\u001b[0m             \u001b[0;32mif\u001b[0m \u001b[0mis_integer\u001b[0m\u001b[0;34m(\u001b[0m\u001b[0mindexer\u001b[0m\u001b[0;34m)\u001b[0m\u001b[0;34m:\u001b[0m\u001b[0;34m\u001b[0m\u001b[0;34m\u001b[0m\u001b[0m\n\u001b[1;32m   2802\u001b[0m                 \u001b[0mindexer\u001b[0m \u001b[0;34m=\u001b[0m \u001b[0;34m[\u001b[0m\u001b[0mindexer\u001b[0m\u001b[0;34m]\u001b[0m\u001b[0;34m\u001b[0m\u001b[0;34m\u001b[0m\u001b[0m\n",
      "\u001b[0;32m/opt/conda/lib/python3.7/site-packages/pandas/core/indexes/base.py\u001b[0m in \u001b[0;36mget_loc\u001b[0;34m(self, key, method, tolerance)\u001b[0m\n\u001b[1;32m   2646\u001b[0m                 \u001b[0;32mreturn\u001b[0m \u001b[0mself\u001b[0m\u001b[0;34m.\u001b[0m\u001b[0m_engine\u001b[0m\u001b[0;34m.\u001b[0m\u001b[0mget_loc\u001b[0m\u001b[0;34m(\u001b[0m\u001b[0mkey\u001b[0m\u001b[0;34m)\u001b[0m\u001b[0;34m\u001b[0m\u001b[0;34m\u001b[0m\u001b[0m\n\u001b[1;32m   2647\u001b[0m             \u001b[0;32mexcept\u001b[0m \u001b[0mKeyError\u001b[0m\u001b[0;34m:\u001b[0m\u001b[0;34m\u001b[0m\u001b[0;34m\u001b[0m\u001b[0m\n\u001b[0;32m-> 2648\u001b[0;31m                 \u001b[0;32mreturn\u001b[0m \u001b[0mself\u001b[0m\u001b[0;34m.\u001b[0m\u001b[0m_engine\u001b[0m\u001b[0;34m.\u001b[0m\u001b[0mget_loc\u001b[0m\u001b[0;34m(\u001b[0m\u001b[0mself\u001b[0m\u001b[0;34m.\u001b[0m\u001b[0m_maybe_cast_indexer\u001b[0m\u001b[0;34m(\u001b[0m\u001b[0mkey\u001b[0m\u001b[0;34m)\u001b[0m\u001b[0;34m)\u001b[0m\u001b[0;34m\u001b[0m\u001b[0;34m\u001b[0m\u001b[0m\n\u001b[0m\u001b[1;32m   2649\u001b[0m         \u001b[0mindexer\u001b[0m \u001b[0;34m=\u001b[0m \u001b[0mself\u001b[0m\u001b[0;34m.\u001b[0m\u001b[0mget_indexer\u001b[0m\u001b[0;34m(\u001b[0m\u001b[0;34m[\u001b[0m\u001b[0mkey\u001b[0m\u001b[0;34m]\u001b[0m\u001b[0;34m,\u001b[0m \u001b[0mmethod\u001b[0m\u001b[0;34m=\u001b[0m\u001b[0mmethod\u001b[0m\u001b[0;34m,\u001b[0m \u001b[0mtolerance\u001b[0m\u001b[0;34m=\u001b[0m\u001b[0mtolerance\u001b[0m\u001b[0;34m)\u001b[0m\u001b[0;34m\u001b[0m\u001b[0;34m\u001b[0m\u001b[0m\n\u001b[1;32m   2650\u001b[0m         \u001b[0;32mif\u001b[0m \u001b[0mindexer\u001b[0m\u001b[0;34m.\u001b[0m\u001b[0mndim\u001b[0m \u001b[0;34m>\u001b[0m \u001b[0;36m1\u001b[0m \u001b[0;32mor\u001b[0m \u001b[0mindexer\u001b[0m\u001b[0;34m.\u001b[0m\u001b[0msize\u001b[0m \u001b[0;34m>\u001b[0m \u001b[0;36m1\u001b[0m\u001b[0;34m:\u001b[0m\u001b[0;34m\u001b[0m\u001b[0;34m\u001b[0m\u001b[0m\n",
      "\u001b[0;32mpandas/_libs/index.pyx\u001b[0m in \u001b[0;36mpandas._libs.index.IndexEngine.get_loc\u001b[0;34m()\u001b[0m\n",
      "\u001b[0;32mpandas/_libs/index.pyx\u001b[0m in \u001b[0;36mpandas._libs.index.IndexEngine.get_loc\u001b[0;34m()\u001b[0m\n",
      "\u001b[0;32mpandas/_libs/hashtable_class_helper.pxi\u001b[0m in \u001b[0;36mpandas._libs.hashtable.PyObjectHashTable.get_item\u001b[0;34m()\u001b[0m\n",
      "\u001b[0;32mpandas/_libs/hashtable_class_helper.pxi\u001b[0m in \u001b[0;36mpandas._libs.hashtable.PyObjectHashTable.get_item\u001b[0;34m()\u001b[0m\n",
      "\u001b[0;31mKeyError\u001b[0m: 'NDT5'"
     ]
    }
   ],
   "source": [
    "# lame\n",
    "beacons = []\n",
    "for t in stepbeacons['NDT5']:\n",
    "    beacons.append(t['clientIP'])\n",
    "plotMultiBeacons(beacons, 2, width=10)"
   ]
  },
  {
   "cell_type": "code",
   "execution_count": 7,
   "metadata": {},
   "outputs": [],
   "source": [
    "# Particularly ugly, \n",
    "# plotMultiBeacons(['67.161.83.114'], 1, width=10)\n"
   ]
  }
 ],
 "metadata": {
  "kernelspec": {
   "display_name": "Python 3",
   "language": "python",
   "name": "python3"
  },
  "language_info": {
   "codemirror_mode": {
    "name": "ipython",
    "version": 3
   },
   "file_extension": ".py",
   "mimetype": "text/x-python",
   "name": "python",
   "nbconvert_exporter": "python",
   "pygments_lexer": "ipython3",
   "version": "3.7.6"
  }
 },
 "nbformat": 4,
 "nbformat_minor": 4
}
