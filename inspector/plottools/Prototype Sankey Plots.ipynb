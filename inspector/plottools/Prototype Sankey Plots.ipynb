{
 "cells": [
  {
   "cell_type": "markdown",
   "metadata": {},
   "source": [
    "# Prototype Sankey\n",
    "\n",
    "To narrow the problem some, we look at only ndt.unified_downloads on the new platform, although we include partial parameterization to support expantion to both the old new platform as well as additional tables.\n",
    "\n",
    "All \"flows\" are row counts.  In most cases they are rows with proper unique UUIDs (or more precisely number of nuique UUIDs meeting a particular critera."
   ]
  },
  {
   "cell_type": "code",
   "execution_count": 1,
   "metadata": {},
   "outputs": [],
   "source": [
    "import re\n",
    "import pandas as pd\n",
    "import BQhelper as bq\n",
    "import inspectTable\n",
    "\n",
    "bq.project = \"mlab-sandbox\"\n"
   ]
  },
  {
   "cell_type": "code",
   "execution_count": 2,
   "metadata": {},
   "outputs": [
    {
     "name": "stdout",
     "output_type": "stream",
     "text": [
      "   key  numRows  numMissingUUID  numHaveUUID  numDupUUID  numUUID  numBest  \\\n",
      "0    1  1692710           15148      1677562        4667  1672895  1389932   \n",
      "\n",
      "   numNotBest  \n",
      "0      287630  \n"
     ]
    }
   ],
   "source": [
    "\n",
    "mainViewQ=\"\"\"\n",
    "WITH\n",
    "\n",
    "stage1 AS (\n",
    "   SELECT\n",
    "       1 AS key,\n",
    "       COUNT (*) AS numRows,\n",
    "       COUNTIF ({UUID} IS NULL OR {UUID} LIKE ( \"\" )) AS numMissingUUID\n",
    "   FROM {productTable}\n",
    "   WHERE {whereClause}\n",
    "),\n",
    "\n",
    "stage2 AS (\n",
    "  SELECT\n",
    "    1 AS key,\n",
    "    COUNT(*) AS numHaveUUID,\n",
    "    COUNT(*) - COUNT( DISTINCT {UUID} ) AS numDupUUID,\n",
    "    COUNT( DISTINCT {UUID} ) AS numUUID,\n",
    "    COUNTIF (filter.isValidBest) AS numBest,\n",
    "    COUNTIF (NOT filter.isValidBest) AS numNotBest\n",
    "  FROM {productTable}\n",
    "  WHERE {UUID} IS NOT NULL\n",
    "    AND {UUID} NOT LIKE ( \"\" )\n",
    "    AND {whereClause}\n",
    ")\n",
    "\n",
    "SELECT * FROM stage1 JOIN stage2 USING (key)\n",
    "\"\"\"\n",
    "\n",
    "res=bq.DataFrameQuery(mainViewQ, productTable='measurement-lab.library.ndt_unified_ndt5_uploads', UUID='a.UUID',\n",
    "                      whereClause='test_date=\"2020-01-10\"')\n",
    "\n",
    "print (res)"
   ]
  },
  {
   "cell_type": "code",
   "execution_count": null,
   "metadata": {},
   "outputs": [],
   "source": []
  }
 ],
 "metadata": {
  "kernelspec": {
   "display_name": "Python 3",
   "language": "python",
   "name": "python3"
  },
  "language_info": {
   "codemirror_mode": {
    "name": "ipython",
    "version": 3
   },
   "file_extension": ".py",
   "mimetype": "text/x-python",
   "name": "python",
   "nbconvert_exporter": "python",
   "pygments_lexer": "ipython3",
   "version": "3.7.6"
  }
 },
 "nbformat": 4,
 "nbformat_minor": 4
}
