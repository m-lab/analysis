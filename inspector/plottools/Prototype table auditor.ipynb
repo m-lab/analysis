{
 "cells": [
  {
   "cell_type": "markdown",
   "metadata": {},
   "source": [
    "# Basic table auditor\n",
    "\n",
    "Most of these checks can be applied to most simple MLab tables and views.\n",
    "\n",
    "This notbook is used for prototyping.  The release version is in  ../scripts/inspectTable.py\n"
   ]
  },
  {
   "cell_type": "code",
   "execution_count": 1,
   "metadata": {},
   "outputs": [],
   "source": [
    "import re\n",
    "import pandas as pd\n",
    "import BQhelper as bq\n",
    "import inspectTable\n",
    "\n",
    "bq.project = \"mlab-sandbox\"\n"
   ]
  },
  {
   "cell_type": "code",
   "execution_count": 5,
   "metadata": {
    "scrolled": false
   },
   "outputs": [
    {
     "name": "stdout",
     "output_type": "stream",
     "text": [
      "[]\n"
     ]
    }
   ],
   "source": [
    "# Tests, designed to be repeated\n",
    "UnitTest=False\n",
    "if UnitTest:\n",
    "    inspectTable.UnitTestAll()\n",
    "\n",
    "if UnitTest:\n",
    "    inspectTable.inventoryTable('measurement-lab.ndt.ndt5')\n",
    "if False:\n",
    "    inspectTable.inspectDataSetMappings('mlab-oti.base_tables')\n",
    "    inspectTable.inspectDataSetMappings('measurement-lab.ndt')\n",
    "    inspectTable.inspectDataSetMappings('measurement-lab.library')\n",
    "if True:\n",
    "    ret=bq.getTables('mlab-oti.base_tables')\n",
    "    print (ret)\n",
    "#    inspectTable.inventoryTable('mlab-oti.base_tables.ndt')\n",
    "    \n",
    "    "
   ]
  },
  {
   "cell_type": "code",
   "execution_count": null,
   "metadata": {},
   "outputs": [],
   "source": [
    "STOP"
   ]
  },
  {
   "cell_type": "code",
   "execution_count": null,
   "metadata": {
    "scrolled": false
   },
   "outputs": [],
   "source": [
    "# Expensive, but what we came for\n",
    "# inspectTable.inventoryDataSet('measurement-lab.ndt')\n",
    "\n",
    "# Expensive, but what we came for\n",
    "# inspectTable.inventoryDataSet('measurement-lab.library')"
   ]
  }
 ],
 "metadata": {
  "kernelspec": {
   "display_name": "Python 3",
   "language": "python",
   "name": "python3"
  },
  "language_info": {
   "codemirror_mode": {
    "name": "ipython",
    "version": 3
   },
   "file_extension": ".py",
   "mimetype": "text/x-python",
   "name": "python",
   "nbconvert_exporter": "python",
   "pygments_lexer": "ipython3",
   "version": "3.7.6"
  }
 },
 "nbformat": 4,
 "nbformat_minor": 4
}
