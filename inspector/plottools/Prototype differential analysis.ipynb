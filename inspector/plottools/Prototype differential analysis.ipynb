{
 "cells": [
  {
   "cell_type": "markdown",
   "metadata": {},
   "source": [
    "# Prototype differential analsys\n",
    "\n",
    "\n",
    "Tools to compute and compare table or view summaries"
   ]
  },
  {
   "cell_type": "code",
   "execution_count": 1,
   "metadata": {},
   "outputs": [],
   "source": [
    "import re\n",
    "import pandas as pd\n",
    "import BQhelper as bq\n",
    "import inspectTable\n",
    "\n",
    "bq.project = \"mlab-sandbox\"\n"
   ]
  },
  {
   "cell_type": "code",
   "execution_count": 3,
   "metadata": {},
   "outputs": [
    {
     "name": "stdout",
     "output_type": "stream",
     "text": [
      "     legacy       cur    netD    ratio\n",
      "0  54566100  54443863 -122237 -0.00224\n"
     ]
    }
   ],
   "source": [
    "# Replicate/audit inventories from 2020/02/28\n",
    "\n",
    "# measurement-lab.ndt.downloads as Inventory_measurement_lab_ndt_downloads\n",
    "# measurement-lab.ndt.uploads AS Inventory_measurement_lab_ndt_uploads\n",
    "# mlab-oti.base_tables.ndt AS Inventory_mlab_oit_base_tables\n",
    "\n",
    "basicIQ=\"\"\"\n",
    "WITH\n",
    "\n",
    "CurrTab AS (\n",
    "    SELECT\n",
    "      CAST(log_time AS DATE) as test_date,\n",
    "      REPLACE(REGEXP_EXTRACT(task_filename, \"-(mlab[1-4]-[a-z][a-z][a-z][0-9][0-9t])-\"), \"-\", \".\") AS hostname,\n",
    "      connection_spec.data_direction AS direction,\n",
    "      COUNT( DISTINCT test_id) AS current_tests\n",
    "    FROM `{table}`\n",
    "    GROUP BY test_date, hostname, direction\n",
    "),\n",
    "\n",
    "RawData AS (\n",
    "SELECT * FROM {table} LIMIT 100\n",
    "),\n",
    "\n",
    "deltaTab AS (\n",
    "    SELECT *, CurrTab.current_tests-legacy_tests AS delta\n",
    "    FROM CurrTab\n",
    "    JOIN {archivedTable} AS archive\n",
    "    USING (test_date, hostname, direction)\n",
    "    WHERE CurrTab.current_tests != archive.legacy_tests\n",
    ")\n",
    "\n",
    "\n",
    "# select * FROM DeltaTab LIMIT 10\n",
    "SELECT\n",
    "    SUM(legacy_tests) AS legacy,\n",
    "    SUM(current_tests) AS cur,\n",
    "    SUM(delta) AS netD,\n",
    "    SUM(delta) / SUM(legacy_tests) AS ratio\n",
    "FROM deltaTab\n",
    "\"\"\"\n",
    "\n",
    "r=bq.DataFrameQuery(basicIQ, table='mlab-oti.base_tables.ndt', archivedTable='mlab-sandbox.mattmathis.Inventory_mlab_oit_base_tables')\n",
    "print (r)"
   ]
  }
 ],
 "metadata": {
  "kernelspec": {
   "display_name": "Python 3",
   "language": "python",
   "name": "python3"
  },
  "language_info": {
   "codemirror_mode": {
    "name": "ipython",
    "version": 3
   },
   "file_extension": ".py",
   "mimetype": "text/x-python",
   "name": "python",
   "nbconvert_exporter": "python",
   "pygments_lexer": "ipython3",
   "version": "3.7.6"
  }
 },
 "nbformat": 4,
 "nbformat_minor": 4
}
