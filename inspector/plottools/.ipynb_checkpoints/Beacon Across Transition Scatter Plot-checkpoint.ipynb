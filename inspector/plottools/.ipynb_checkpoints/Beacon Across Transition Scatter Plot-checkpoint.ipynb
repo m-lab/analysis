{
 "cells": [
  {
   "cell_type": "markdown",
   "metadata": {},
   "source": [
    "# Scatterplot, beacons across the transition"
   ]
  },
  {
   "cell_type": "code",
   "execution_count": 23,
   "metadata": {},
   "outputs": [
    {
     "name": "stdout",
     "output_type": "stream",
     "text": [
      "Row((88.74930375526006, 83.85827722739214), {'NDT5meanTput': 0, 'legacyMeanTput': 1})\n",
      "Row((42.34786324739461, 43.41385048260507), {'NDT5meanTput': 0, 'legacyMeanTput': 1})\n",
      "Row((7.4131317501895735, 10.464429321266447), {'NDT5meanTput': 0, 'legacyMeanTput': 1})\n",
      "Row((64.73687758174785, 63.42310385410168), {'NDT5meanTput': 0, 'legacyMeanTput': 1})\n",
      "Row((118.87101769879466, 88.02529411711491), {'NDT5meanTput': 0, 'legacyMeanTput': 1})\n",
      "Row((26.74876405613412, 23.419545983250213), {'NDT5meanTput': 0, 'legacyMeanTput': 1})\n",
      "Row((4.966622587158775, 10.500409903217376), {'NDT5meanTput': 0, 'legacyMeanTput': 1})\n",
      "Row((87.62918703708492, 84.7461794453402), {'NDT5meanTput': 0, 'legacyMeanTput': 1})\n",
      "Row((129.62921329573103, 101.9295348864241), {'NDT5meanTput': 0, 'legacyMeanTput': 1})\n",
      "Row((90.48619929420495, 64.90653622669059), {'NDT5meanTput': 0, 'legacyMeanTput': 1})\n"
     ]
    }
   ],
   "source": [
    "from google.cloud import bigquery\n",
    "client = bigquery.Client(project='measurement-lab')\n",
    "\n",
    "q=\"\"\"\n",
    "\n",
    "With\n",
    "\n",
    "Beacons AS (\n",
    "SELECT\n",
    "  clientIP,\n",
    "  node._Instruments AS vers,\n",
    "  count(*) AS tests,\n",
    "  MIN(a.MeanThroughputMbps) AS minTput,\n",
    "  SUM(a.MeanThroughputMbps) /Count(*) AS meanTput,\n",
    "  MAX(a.MeanThroughputMbps) AS maxTput,\n",
    "  MIN(a.MinRTT ) AS minMinRTT,\n",
    "  SUM(a.MinRTT ) /Count(*) AS meanMinRTT,\n",
    "  MAX(a.MinRTT ) AS maxMinRTT\n",
    "FROM\n",
    "  `measurement-lab.ndt.unified_downloads`   -- Remember to test both uploads and downloads\n",
    "  JOIN `mlab-sandbox.mattmathis.TenRandomBeacons4perDay` ON Client.IP = clientIP\n",
    "WHERE\n",
    "  test_date BETWEEN '2019-03-01' AND '2020-03-01'\n",
    "GROUP BY\n",
    "  node._Instruments, clientIP\n",
    "),\n",
    "\n",
    "Paired AS (\n",
    "SELECT\n",
    "  NDT5.clientIP,\n",
    "  NDT5.maxTput AS NDT5maxTput,\n",
    "  NDT5.minMinRTT AS NDT5minMinRTT,\n",
    "  legacy.meanTput AS legacyMeanTput,\n",
    "  legacy.maxTput AS legacyMaxTput,\n",
    "  legacy.minMinRTT AS legacyMinMinRTT\n",
    "FROM ( SELECT * FROM Beacons WHERE vers = 'tcpinfo' ) AS NDT5\n",
    "JOIN ( SELECT * FROM Beacons WHERE vers = 'web100' ) AS legacy USING ( clientIP )\n",
    ")\n",
    "\n",
    "SELECT * FROM Paired\n",
    "\n",
    "\"\"\"\n",
    "data = client.query(q)\n",
    "\n",
    "for row in data:\n",
    "    print (row)\n"
   ]
  }
 ],
 "metadata": {
  "kernelspec": {
   "display_name": "Python 3",
   "language": "python",
   "name": "python3"
  },
  "language_info": {
   "codemirror_mode": {
    "name": "ipython",
    "version": 3
   },
   "file_extension": ".py",
   "mimetype": "text/x-python",
   "name": "python",
   "nbconvert_exporter": "python",
   "pygments_lexer": "ipython3",
   "version": "3.7.6"
  }
 },
 "nbformat": 4,
 "nbformat_minor": 4
}
