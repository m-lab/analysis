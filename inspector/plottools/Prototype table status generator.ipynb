{
 "cells": [
  {
   "cell_type": "markdown",
   "metadata": {},
   "source": [
    "# Prototype table status generator \n",
    "\n",
    "Given a list of tables, apply various tests and produce a report in a table.\n"
   ]
  },
  {
   "cell_type": "code",
   "execution_count": 1,
   "metadata": {},
   "outputs": [],
   "source": [
    "\n",
    "import BQhelper as bq\n",
    "import pandas as pd\n",
    "\n",
    "bq.project = \"mlab-sandbox\""
   ]
  },
  {
   "cell_type": "code",
   "execution_count": 2,
   "metadata": {},
   "outputs": [],
   "source": [
    "datasets=[\n",
    "    'mlab-sandbox.base_tables', 'mlab-staging.base_tables', 'mlab-oti.base_tables',\n",
    "    \n",
    "]\n",
    "\n",
    "TableQ=\"\"\"SELECT * FROM `{dataset}.INFORMATION_SCHEMA.TABLES`\"\"\"\n",
    "\n",
    "# r=bq.run_query(TableQ, dataSet=dataset)\n",
    "\n",
    "def GetDataSetTables(dataset):\n",
    "    print (dataset)\n",
    "    r=bq.run_query(TableQ, dataset=dataset)\n",
    "    r['dataset'] = dataset\n",
    "    return pd.DataFrame(r, index=[dataset+'.'+t for t in r['table_name']])\n",
    "# rr =GetDataSetTables(datasets[2])         "
   ]
  },
  {
   "cell_type": "code",
   "execution_count": 3,
   "metadata": {},
   "outputs": [
    {
     "name": "stdout",
     "output_type": "stream",
     "text": [
      "mlab-sandbox.base_tables\n",
      "mlab-staging.base_tables\n",
      "mlab-oti.base_tables\n",
      "['table_catalog', 'table_schema', 'table_name', 'table_type', 'is_insertable_into', 'is_typed', 'creation_time', 'dataset']\n"
     ]
    }
   ],
   "source": [
    "# scan datasets of  interest\n",
    "\n",
    "# This should be a 3d structure rr[dataset][tabel][metadata col]\n",
    "rr = pd.DataFrame()\n",
    "for dataset in datasets:\n",
    "    r = GetDataSetTables(dataset)\n",
    "    rr = rr.append(r)\n",
    "print (list(rr))"
   ]
  },
  {
   "cell_type": "code",
   "execution_count": 4,
   "metadata": {},
   "outputs": [],
   "source": [
    "# Indicate which tables are important\n",
    "# We build this in early to make it possible to extend this to very large scales\n",
    "\n",
    "effort = pd.Series([0 for i in range(len(rr.index))], index=rr.index, name='effort')\n",
    "effort['mlab-oti.base_tables.ndt5'] = 9  # future flags, etc\n",
    "rr['effort'] = effort\n",
    "# print (rr)"
   ]
  },
  {
   "cell_type": "code",
   "execution_count": 9,
   "metadata": {},
   "outputs": [
    {
     "name": "stdout",
     "output_type": "stream",
     "text": [
      "mlab-oti.base_tables.ndt5\n"
     ]
    },
    {
     "ename": "TypeError",
     "evalue": "string indices must be integers",
     "output_type": "error",
     "traceback": [
      "\u001b[0;31m---------------------------------------------------------------------------\u001b[0m",
      "\u001b[0;31mTypeError\u001b[0m                                 Traceback (most recent call last)",
      "\u001b[0;32m<ipython-input-9-04b38c67577d>\u001b[0m in \u001b[0;36m<module>\u001b[0;34m\u001b[0m\n\u001b[1;32m      9\u001b[0m \u001b[0;32mfor\u001b[0m \u001b[0mtrow\u001b[0m \u001b[0;32min\u001b[0m \u001b[0mrr\u001b[0m\u001b[0;34m[\u001b[0m\u001b[0mrr\u001b[0m\u001b[0;34m[\u001b[0m\u001b[0;34m'effort'\u001b[0m\u001b[0;34m]\u001b[0m\u001b[0;34m>\u001b[0m\u001b[0;36m0\u001b[0m\u001b[0;34m]\u001b[0m\u001b[0;34m.\u001b[0m\u001b[0mindex\u001b[0m\u001b[0;34m:\u001b[0m\u001b[0;34m\u001b[0m\u001b[0;34m\u001b[0m\u001b[0m\n\u001b[1;32m     10\u001b[0m     \u001b[0mprint\u001b[0m \u001b[0;34m(\u001b[0m\u001b[0mtrow\u001b[0m\u001b[0;34m)\u001b[0m\u001b[0;34m\u001b[0m\u001b[0;34m\u001b[0m\u001b[0m\n\u001b[0;32m---> 11\u001b[0;31m     \u001b[0mr\u001b[0m\u001b[0;34m=\u001b[0m\u001b[0mbq\u001b[0m\u001b[0;34m.\u001b[0m\u001b[0mrun_query\u001b[0m\u001b[0;34m(\u001b[0m\u001b[0mColumnQ\u001b[0m\u001b[0;34m,\u001b[0m \u001b[0mdataset\u001b[0m\u001b[0;34m=\u001b[0m\u001b[0mtrow\u001b[0m\u001b[0;34m[\u001b[0m\u001b[0;34m'dataset'\u001b[0m\u001b[0;34m]\u001b[0m\u001b[0;34m,\u001b[0m \u001b[0mtable\u001b[0m\u001b[0;34m=\u001b[0m\u001b[0mtrow\u001b[0m\u001b[0;34m[\u001b[0m\u001b[0;34m'table_name'\u001b[0m\u001b[0;34m]\u001b[0m\u001b[0;34m)\u001b[0m\u001b[0;34m\u001b[0m\u001b[0;34m\u001b[0m\u001b[0m\n\u001b[0m\u001b[1;32m     12\u001b[0m     \u001b[0mprint\u001b[0m \u001b[0;34m(\u001b[0m\u001b[0mr\u001b[0m\u001b[0;34m)\u001b[0m\u001b[0;34m\u001b[0m\u001b[0;34m\u001b[0m\u001b[0m\n",
      "\u001b[0;31mTypeError\u001b[0m: string indices must be integers"
     ]
    }
   ],
   "source": [
    "ColumnQ = \"\"\"\n",
    "SELECT *\n",
    "FROM {dataset}.INFORMATION_SCHEMA.COLUMNS\n",
    "WHERE table_name = {table}\n",
    "\"\"\"\n",
    "\n",
    "# r=bq.run_query(ColumnQ, dataset='mlab-oti.base_tables')\n",
    "\n",
    "for trow in rr[rr['effort']>0].index:\n",
    "    print (trow)\n",
    "    r=bq.run_query(ColumnQ, dataset=trow['dataset'], table=trow['table_name'])\n",
    "    print (r)"
   ]
  },
  {
   "cell_type": "code",
   "execution_count": null,
   "metadata": {},
   "outputs": [],
   "source": [
    "print (r)\n"
   ]
  },
  {
   "cell_type": "code",
   "execution_count": null,
   "metadata": {},
   "outputs": [],
   "source": [
    "SELECT *\n",
    "FROM `mlab-sandbox.base_tables.INFORMATION_SCHEMA.TABLES`\n",
    "JOIN ( SELECT TABLE_CATALOG, TABLE_SCHEMA, TABLE_NAME, option_value FROM `mlab-sandbox.base_tables.INFORMATION_SCHEMA.TABLE_OPTIONS` WHERE option_name = 'description' )\n",
    "USING ( TABLE_CATALOG, TABLE_SCHEMA, TABLE_NAME)"
   ]
  }
 ],
 "metadata": {
  "kernelspec": {
   "display_name": "Python 3",
   "language": "python",
   "name": "python3"
  },
  "language_info": {
   "codemirror_mode": {
    "name": "ipython",
    "version": 3
   },
   "file_extension": ".py",
   "mimetype": "text/x-python",
   "name": "python",
   "nbconvert_exporter": "python",
   "pygments_lexer": "ipython3",
   "version": "3.7.6"
  }
 },
 "nbformat": 4,
 "nbformat_minor": 4
}
